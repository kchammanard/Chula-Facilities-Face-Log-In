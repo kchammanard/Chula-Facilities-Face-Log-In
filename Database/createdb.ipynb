{
 "cells": [
  {
   "attachments": {},
   "cell_type": "markdown",
   "metadata": {},
   "source": [
    "<h1>Create Database"
   ]
  },
  {
   "cell_type": "code",
   "execution_count": 1,
   "metadata": {},
   "outputs": [
    {
     "name": "stdout",
     "output_type": "stream",
     "text": [
      "['facedb', 'admin', 'local']\n"
     ]
    }
   ],
   "source": [
    "import sys\n",
    "from collections.abc import MutableMapping\n",
    "from pymongo.mongo_client import MongoClient\n",
    "\n",
    "cluster = \"\"\n",
    "client = MongoClient(cluster)\n",
    "print(client.list_database_names())"
   ]
  },
  {
   "attachments": {},
   "cell_type": "markdown",
   "metadata": {},
   "source": [
    "<h3>Define Databases"
   ]
  },
  {
   "cell_type": "code",
   "execution_count": 2,
   "metadata": {},
   "outputs": [],
   "source": [
    "db = client.facedb\n",
    "student_collection = db.students\n",
    "face_collection = db.face\n",
    "facility_collection = db.facility\n",
    "acitivity_collection = db.activity\n",
    "entry_collection = db.entry"
   ]
  },
  {
   "attachments": {},
   "cell_type": "markdown",
   "metadata": {},
   "source": [
    "<h2>Add to Collections"
   ]
  },
  {
   "attachments": {},
   "cell_type": "markdown",
   "metadata": {},
   "source": [
    "<h3>Facility"
   ]
  },
  {
   "cell_type": "code",
   "execution_count": 5,
   "metadata": {},
   "outputs": [],
   "source": [
    "facility = [\n",
    "    {\n",
    "    \"facility_id\": 1001,\n",
    "    \"facility_name\": \"CU Office\"},\n",
    "    {\n",
    "    \"facility_id\": 1002,\n",
    "    \"facility_name\": \"CU Sports Complex\"\n",
    "    },\n",
    "    {\n",
    "    \"facility_id\": 1003,\n",
    "    \"facility_name\": \"CU Library\"\n",
    "    }]\n",
    "\n",
    "# result = facility_collection.insert_many(facility)"
   ]
  },
  {
   "attachments": {},
   "cell_type": "markdown",
   "metadata": {},
   "source": [
    "<h3>Entry"
   ]
  },
  {
   "cell_type": "code",
   "execution_count": 26,
   "metadata": {},
   "outputs": [],
   "source": [
    "entry = [\n",
    "    {\n",
    "    \"entry_id\": 1,\n",
    "    \"can_enter\": True,\n",
    "    \"reason\": \"Can Enter\"\n",
    "    },\n",
    "        {\n",
    "    \"entry_id\": 2,\n",
    "    \"can_enter\": False,\n",
    "    \"reason\": \"Unregistered User\"\n",
    "    },\n",
    "        {\n",
    "    \"entry_id\": 3,\n",
    "    \"can_enter\": False,\n",
    "    \"reason\": \"No Reservation\"\n",
    "    },\n",
    "    {\n",
    "    \"entry_id\": 4,\n",
    "    \"can_enter\": False,\n",
    "    \"reason\": \"Banned\"\n",
    "    }\n",
    "]\n",
    "\n",
    "result = entry_collection.insert_many(entry)"
   ]
  },
  {
   "attachments": {},
   "cell_type": "markdown",
   "metadata": {},
   "source": [
    "<h3>Students"
   ]
  },
  {
   "cell_type": "code",
   "execution_count": 9,
   "metadata": {},
   "outputs": [],
   "source": [
    "student = {\n",
    "    \"student_id\": 6438132121,\n",
    "    \"f_name\": \"Panai\",\n",
    "    \"l_name\": \"Chamnanrattanakul\",\n",
    "    \"faculty\": \"ENG\",\n",
    "    \"face_id\": 211950\n",
    "}\n",
    "\n",
    "result = student_collection.insert_one(student)"
   ]
  },
  {
   "attachments": {},
   "cell_type": "markdown",
   "metadata": {},
   "source": [
    "<h3>Face"
   ]
  },
  {
   "cell_type": "code",
   "execution_count": 10,
   "metadata": {},
   "outputs": [
    {
     "name": "stdout",
     "output_type": "stream",
     "text": [
      "{'face_id': 211950, 'feature_1': -0.00408067275, 'feature_2': 0.0869553238, 'feature_3': -0.0220602695, 'feature_4': -0.0433557928, 'feature_5': -0.0731465369, 'feature_6': 0.0186904818, 'feature_7': -0.0814535916, 'feature_8': -0.0469237641, 'feature_9': 0.111535326, 'feature_10': -0.105164364, 'feature_11': 0.184534177, 'feature_12': -0.0334259085, 'feature_13': -0.174445301, 'feature_14': -0.10752809, 'feature_15': -0.0301620029, 'feature_16': 0.123641185, 'feature_17': -0.111604534, 'feature_18': -0.181448221, 'feature_19': -0.0485001542, 'feature_20': 0.00102599524, 'feature_21': 0.0399744436, 'feature_22': 0.00427739834, 'feature_23': -0.02163429, 'feature_24': 0.0726692155, 'feature_25': -0.0785762817, 'feature_26': -0.360321939, 'feature_27': -0.106213935, 'feature_28': -0.0630650818, 'feature_29': -0.00236918032, 'feature_30': -0.0338466689, 'feature_31': -0.0272838492, 'feature_32': 0.0635799617, 'feature_33': -0.0688033104, 'feature_34': 0.00368330628, 'feature_35': -0.045857396, 'feature_36': 0.000120010227, 'feature_37': 0.225195006, 'feature_38': 0.0044724578, 'feature_39': -0.0672459453, 'feature_40': 0.171765015, 'feature_41': -0.00420182571, 'feature_42': 0.0878472179, 'feature_43': 0.0647827238, 'feature_44': -0.0046431059, 'feature_45': -0.0778020322, 'feature_46': 0.0456969216, 'feature_47': -0.188450173, 'feature_48': -0.008519575, 'feature_49': -0.00181615818, 'feature_50': -0.0425760783, 'feature_51': 0.00537822908, 'feature_52': 0.142904803, 'feature_53': -0.1524041, 'feature_54': 0.0960268676, 'feature_55': 0.00455749221, 'feature_56': 0.013687619, 'feature_57': 0.0208489932, 'feature_58': 0.141417235, 'feature_59': -0.136203974, 'feature_60': -0.116473921, 'feature_61': 0.13534528, 'feature_62': -0.221726134, 'feature_63': 0.233827367, 'feature_64': 0.0972617045, 'feature_65': 0.115668476, 'feature_66': 0.0975904018, 'feature_67': 0.188900068, 'feature_68': 0.123991683, 'feature_69': 0.00976562966, 'feature_70': -0.00900754239, 'feature_71': -0.190939903, 'feature_72': -0.0137018971, 'feature_73': 0.115309864, 'feature_74': -0.0134363296, 'feature_75': 0.104206264, 'feature_76': 0.0253989026}\n"
     ]
    }
   ],
   "source": [
    "#convert matrix into columns of features\n",
    "import pyperclip\n",
    "encode_matrix = [-4.08067275e-03,  8.69553238e-02, -2.20602695e-02, -4.33557928e-02,\n",
    "       -7.31465369e-02,  1.86904818e-02, -8.14535916e-02, -4.69237641e-02,\n",
    "        1.11535326e-01, -1.05164364e-01,  1.84534177e-01, -3.34259085e-02,\n",
    "       -1.74445301e-01, -1.07528090e-01, -3.01620029e-02,  1.23641185e-01,\n",
    "       -1.11604534e-01, -1.81448221e-01, -4.85001542e-02,  1.02599524e-03,\n",
    "        3.99744436e-02,  4.27739834e-03, -2.16342900e-02,  7.26692155e-02,\n",
    "       -7.85762817e-02, -3.60321939e-01, -1.06213935e-01, -6.30650818e-02,\n",
    "       -2.36918032e-03, -3.38466689e-02, -2.72838492e-02,  6.35799617e-02,\n",
    "       -6.88033104e-02,  3.68330628e-03, -4.58573960e-02,  1.20010227e-04,\n",
    "        2.25195006e-01,  4.47245780e-03, -6.72459453e-02,  1.71765015e-01,\n",
    "       -4.20182571e-03,  8.78472179e-02,  6.47827238e-02, -4.64310590e-03,\n",
    "       -7.78020322e-02,  4.56969216e-02, -1.88450173e-01, -8.51957500e-03,\n",
    "       -1.81615818e-03, -4.25760783e-02,  5.37822908e-03,  1.42904803e-01,\n",
    "       -1.52404100e-01,  9.60268676e-02,  4.55749221e-03,  1.36876190e-02,\n",
    "        2.08489932e-02,  1.41417235e-01, -1.36203974e-01, -1.16473921e-01,\n",
    "        1.35345280e-01, -2.21726134e-01,  2.33827367e-01,  9.72617045e-02,\n",
    "        1.15668476e-01,  9.75904018e-02,  1.88900068e-01,  1.23991683e-01,\n",
    "        9.76562966e-03, -9.00754239e-03, -1.90939903e-01, -1.37018971e-02,\n",
    "        1.15309864e-01, -1.34363296e-02,  1.04206264e-01,  2.53989026e-02]\n",
    "\n",
    "dic = {'face_id':211950}\n",
    "\n",
    "for i,val in enumerate(encode_matrix):\n",
    "    dic[f\"feature_{i+1}\"] = val\n",
    "\n",
    "print(dic)\n",
    "result = face_collection.insert_one(dic)"
   ]
  },
  {
   "attachments": {},
   "cell_type": "markdown",
   "metadata": {},
   "source": [
    "<h3>Activity"
   ]
  },
  {
   "cell_type": "code",
   "execution_count": 14,
   "metadata": {},
   "outputs": [],
   "source": [
    "activity = [\n",
    "    {\n",
    "    \"face_id\": 211950,\n",
    "    \"facility_id\": 1001,\n",
    "    \"entry_id\": 2\n",
    "    },\n",
    "    {\n",
    "    \"face_id\": 211950,\n",
    "    \"facility_id\": 1002,\n",
    "    \"entry_id\": 2\n",
    "    },\n",
    "    {\n",
    "    \"face_id\": 211950,\n",
    "    \"facility_id\": 1003,\n",
    "    \"entry_id\": 1\n",
    "    },\n",
    "]\n",
    "\n",
    "result = acitivity_collection.insert_many(activity)"
   ]
  }
 ],
 "metadata": {
  "kernelspec": {
   "display_name": "Python 3",
   "language": "python",
   "name": "python3"
  },
  "language_info": {
   "codemirror_mode": {
    "name": "ipython",
    "version": 3
   },
   "file_extension": ".py",
   "mimetype": "text/x-python",
   "name": "python",
   "nbconvert_exporter": "python",
   "pygments_lexer": "ipython3",
   "version": "3.10.8"
  },
  "orig_nbformat": 4
 },
 "nbformat": 4,
 "nbformat_minor": 2
}
