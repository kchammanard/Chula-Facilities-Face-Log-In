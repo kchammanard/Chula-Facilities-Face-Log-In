{
 "cells": [
  {
   "cell_type": "code",
   "execution_count": 18,
   "metadata": {},
   "outputs": [],
   "source": [
    "import sys\n",
    "from collections.abc import MutableMapping\n",
    "from pymongo.mongo_client import MongoClient\n",
    "\n",
    "cluster = \"\"\n",
    "client = MongoClient(cluster)\n",
    "\n",
    "db = client.facedb\n",
    "student_collection = db.students\n",
    "face_collection = db.face\n",
    "facility_collection = db.facility\n",
    "activity_collection = db.activity\n",
    "entry_collection = db.entry"
   ]
  },
  {
   "cell_type": "code",
   "execution_count": 23,
   "metadata": {},
   "outputs": [],
   "source": [
    "facility_collection.find_one({\"face_id\": 328601})"
   ]
  },
  {
   "cell_type": "code",
   "execution_count": null,
   "metadata": {},
   "outputs": [],
   "source": []
  }
 ],
 "metadata": {
  "kernelspec": {
   "display_name": "Python 3",
   "language": "python",
   "name": "python3"
  },
  "language_info": {
   "codemirror_mode": {
    "name": "ipython",
    "version": 3
   },
   "file_extension": ".py",
   "mimetype": "text/x-python",
   "name": "python",
   "nbconvert_exporter": "python",
   "pygments_lexer": "ipython3",
   "version": "3.10.8"
  },
  "orig_nbformat": 4
 },
 "nbformat": 4,
 "nbformat_minor": 2
}
